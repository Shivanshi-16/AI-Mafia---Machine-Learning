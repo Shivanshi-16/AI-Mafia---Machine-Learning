{
 "cells": [
  {
   "cell_type": "code",
   "execution_count": 1,
   "id": "55fcd9a6-ddca-4f1b-847e-a75af051c091",
   "metadata": {},
   "outputs": [
    {
     "name": "stdout",
     "output_type": "stream",
     "text": [
      "Hello World!\n"
     ]
    }
   ],
   "source": [
    "print(\"Hello World!\")\n"
   ]
  },
  {
   "cell_type": "code",
   "execution_count": 2,
   "id": "3e89e312-93ff-4374-a954-85a1d5515f13",
   "metadata": {},
   "outputs": [
    {
     "name": "stdout",
     "output_type": "stream",
     "text": [
      "Defaulting to user installation because normal site-packages is not writeable\n",
      "Requirement already satisfied: numpy in c:\\users\\shiva\\appdata\\roaming\\python\\python312\\site-packages (1.26.4)\n",
      "Note: you may need to restart the kernel to use updated packages.\n"
     ]
    }
   ],
   "source": [
    "pip install numpy"
   ]
  },
  {
   "cell_type": "code",
   "execution_count": 3,
   "id": "f7552220-90a9-4c99-8c57-8759146e2080",
   "metadata": {},
   "outputs": [
    {
     "name": "stdout",
     "output_type": "stream",
     "text": [
      "<class 'numpy.ndarray'>\n",
      "2\n",
      "(3, 3)\n",
      "9\n"
     ]
    }
   ],
   "source": [
    "import numpy as np\n",
    "arr1=np.array([[1,2,3],[4, 5, 6],[7,8,9]])\n",
    "print(type(arr1))\n",
    "print(arr1.ndim)\n",
    "print(arr1.shape)\n",
    "print(arr1.size)"
   ]
  },
  {
   "cell_type": "markdown",
   "id": "3331c998-fd99-4557-a218-58f402635f8d",
   "metadata": {},
   "source": [
    "ARRAY CREATION!!!!"
   ]
  },
  {
   "cell_type": "code",
   "execution_count": 4,
   "id": "4e67d5ac-4947-4114-a30e-1792c172ec68",
   "metadata": {},
   "outputs": [
    {
     "name": "stdout",
     "output_type": "stream",
     "text": [
      "A : [[1. 2. 3.]\n",
      " [4. 5. 6.]]\n",
      "B : [1 2 3]\n",
      "C : [[1. 1. 1. 1. 1.]\n",
      " [1. 1. 1. 1. 1.]]\n",
      "D : [[6.+0.j 6.+0.j 6.+0.j]\n",
      " [6.+0.j 6.+0.j 6.+0.j]\n",
      " [6.+0.j 6.+0.j 6.+0.j]]\n",
      "E : [[1. 0. 0.]\n",
      " [0. 1. 0.]\n",
      " [0. 0. 1.]]\n"
     ]
    }
   ],
   "source": [
    "#using list\n",
    "a=np.array([[1,2,3],[4, 5, 6]],dtype=float)\n",
    "print(\"A :\", a)\n",
    "#using tuple\n",
    "b=np.array((1,2,3))\n",
    "print(\"B :\", b)    \n",
    "#c=np.zeroes((2,5))\n",
    "#filling 1\n",
    "c=np.ones((2,5))\n",
    "print(\"C :\", c) \n",
    "#filling array with constant complex number\n",
    "d=np.full((3,3),6,dtype='complex')\n",
    "print(\"D :\",d)\n",
    "e=np.eye(3)\n",
    "print(\"E :\",e)"
   ]
  },
  {
   "cell_type": "markdown",
   "id": "1c0e6273-a27a-463a-aa7b-f30f550b2e31",
   "metadata": {},
   "source": [
    "ARRAY RESIZING!!!!"
   ]
  },
  {
   "cell_type": "code",
   "execution_count": 6,
   "id": "552259da-0ad7-44c3-8bd0-68f1f2ba6a6b",
   "metadata": {},
   "outputs": [
    {
     "name": "stdout",
     "output_type": "stream",
     "text": [
      "[[1 2]\n",
      " [3 4]\n",
      " [5 6]]\n",
      "[1 2 3 4 5 6]\n"
     ]
    }
   ],
   "source": [
    "#np.arrange(0,20,3) --> 0,3,6,9,12,15,18\n",
    "#np.arrange(0,30,3) --> 0,3,6,9,12,15,18,21,24,27,30\n",
    "np.linspace(0,5,10) # linspace --> equally spaced 10 elements\n",
    "arr2=np.array([[1,2,3],[4,5,6]])\n",
    "arr2=arr2.reshape(3,2)\n",
    "print(arr2)\n",
    "arr2=arr2.flatten()\n",
    "print(arr2)"
   ]
  },
  {
   "cell_type": "markdown",
   "id": "9ab11f39-a442-4ee0-9ff3-47f1d24a0c2b",
   "metadata": {},
   "source": [
    "SLICING AND INDEXING!!!!"
   ]
  },
  {
   "cell_type": "code",
   "execution_count": 7,
   "id": "fc24d5d9-c82c-4076-b209-f1f86547f105",
   "metadata": {},
   "outputs": [
    {
     "name": "stdout",
     "output_type": "stream",
     "text": [
      "[[ 8  9]\n",
      " [13 14]]\n",
      "[[ 1  2  3  4  5]\n",
      " [11 12 13 14 15]]\n",
      "[[ 7 10]\n",
      " [17 20]]\n"
     ]
    }
   ],
   "source": [
    "#indexing and slicing\n",
    "arr3=np.array([[1,2,3,4,5],\n",
    "               [6,7,8,9,10],\n",
    "               [11,12,13,14,15],\n",
    "               [16,17,18,19,20]])\n",
    "print(arr3[1:3,2:4])\n",
    "print(arr3[::2,::])\n",
    "print(arr3[1::2,1::3])"
   ]
  },
  {
   "cell_type": "code",
   "execution_count": 8,
   "id": "ad8af567-13ea-44ca-a0ab-58465084fcd4",
   "metadata": {},
   "outputs": [
    {
     "name": "stdout",
     "output_type": "stream",
     "text": [
      "[[ 3  6  9 12 15]\n",
      " [18 21 24 27 30]]\n",
      "[[ 2  3  4  5  6]\n",
      " [ 7  8  9 10 11]]\n",
      "[[ 1  6]\n",
      " [ 2  7]\n",
      " [ 3  8]\n",
      " [ 4  9]\n",
      " [ 5 10]]\n"
     ]
    }
   ],
   "source": [
    "#broadcasting in numpy\n",
    "arr4=np.array([[1,2,3,4,5],\n",
    "        [6,7,8,9,10]])\n",
    "print(arr4*3)\n",
    "print(arr4+1)\n",
    "print(arr4.T)"
   ]
  },
  {
   "cell_type": "markdown",
   "id": "3cc6b926-d0b7-4ffa-9dd6-ffb75ee62f61",
   "metadata": {},
   "source": [
    "BASIC FUNCTIONS!!!!"
   ]
  },
  {
   "cell_type": "code",
   "execution_count": 9,
   "id": "daf57797-8823-44d7-b18c-3d0f00670ea3",
   "metadata": {},
   "outputs": [
    {
     "name": "stdout",
     "output_type": "stream",
     "text": [
      "12\n",
      "[10 11 12]\n",
      "[ 3  6  9 12]\n",
      "1\n",
      "[1 2 3]\n",
      "[ 1  4  7 10]\n",
      "78\n",
      "[[ 1  2  3]\n",
      " [ 5  7  9]\n",
      " [12 15 18]\n",
      " [22 26 30]]\n",
      "[[ 1  3  6]\n",
      " [ 4  9 15]\n",
      " [ 7 15 24]\n",
      " [10 21 33]]\n"
     ]
    }
   ],
   "source": [
    "arr5=np.array([[1,2,3],\n",
    "               [4,5,6],\n",
    "                [7,8,9],\n",
    "              [10,11,12]])\n",
    "print(arr5.max())\n",
    "print(arr5.max(axis=0))\n",
    "print(arr5.max(axis=1))\n",
    "print(arr5.min())\n",
    "print(arr5.min(axis=0))\n",
    "print(arr5.min(axis=1))\n",
    "print(arr5.sum())\n",
    "print(arr5.cumsum(axis=0))\n",
    "print(arr5.cumsum(axis=1))"
   ]
  },
  {
   "cell_type": "markdown",
   "id": "8f43e19c-c0cc-4a1d-aa5d-7295f462f9ae",
   "metadata": {},
   "source": [
    "SORTING !!!!"
   ]
  },
  {
   "cell_type": "code",
   "execution_count": 10,
   "id": "c25d717d-0fc2-41fa-9075-cc81a8b3cfdc",
   "metadata": {},
   "outputs": [
    {
     "name": "stdout",
     "output_type": "stream",
     "text": [
      "[[3 6 2 4]\n",
      " [8 5 3 6]]\n",
      "[[3 6 2 4]\n",
      " [8 5 3 6]]\n",
      "[(b'DANNY', 2008, 8.6) (b'HRITIK', 2009, 7.9) (b'Harry', 2007, 9.9)\n",
      " (b'Sachin', 2009, 6.8)]\n",
      "[(b'Harry', 2007, 9.9) (b'DANNY', 2008, 8.6) (b'HRITIK', 2009, 7.9)\n",
      " (b'Sachin', 2009, 6.8)]\n"
     ]
    }
   ],
   "source": [
    "arr6=np.array([[3,6,2,4],\n",
    "               [8,5,3,6]])\n",
    "np.sort(arr6,axis=1) #sorting row wise\n",
    "print(arr6)\n",
    "arr6=np.array([[3,6,2,4],\n",
    "               [8,5,3,6]])\n",
    "np.sort(arr6,axis=0,kind='mergesort')\n",
    "print(arr6)\n",
    "dtypes=[('name','S10'),('grad_yr',int),('cgpa',float)]\n",
    "values=[('HRITIK',2009,7.9),('DANNY',2008,8.6),('Sachin',2009,6.8),('Harry',2007,9.9)]\n",
    "arr7=np.array(values,dtype=dtypes)\n",
    "print(np.sort(arr7,order='name'))\n",
    "print(np.sort(arr7,order=['grad_yr','name']))"
   ]
  },
  {
   "cell_type": "markdown",
   "id": "df148254-2762-47a2-b024-efbf0cf4b005",
   "metadata": {},
   "source": [
    "STACKING AND SPLITTING!!!"
   ]
  },
  {
   "cell_type": "code",
   "execution_count": 15,
   "id": "9b02664d-4757-42cd-9b33-b50b50728d45",
   "metadata": {},
   "outputs": [
    {
     "name": "stdout",
     "output_type": "stream",
     "text": [
      "[[1 2]\n",
      " [3 4]\n",
      " [5 6]\n",
      " [7 8]]\n",
      "[[1 2 5 6]\n",
      " [3 4 7 8]]\n",
      "[[1 2 8]\n",
      " [3 4 9]]\n",
      "[[1 2]\n",
      " [3 4]\n",
      " [5 6]\n",
      " [7 8]]\n"
     ]
    }
   ],
   "source": [
    "A1=np.array([[1,2],[3,4]])\n",
    "A2=np.array([[5,6],[7,8]])\n",
    "A3=np.array([8,9])\n",
    "print(np.vstack((A1,A2)))\n",
    "print(np.hstack((A1,A2)))\n",
    "print(np.column_stack((A1,A3)))\n",
    "print(np.concatenate((A1,A2),0))"
   ]
  },
  {
   "cell_type": "markdown",
   "id": "dab19a84-d375-415e-b6f1-c0154a309b65",
   "metadata": {},
   "source": [
    "MATHS FUNCTIONS!!!!"
   ]
  },
  {
   "cell_type": "code",
   "execution_count": 21,
   "id": "6d6fa1ae-9e24-444f-bc03-fb89df299037",
   "metadata": {},
   "outputs": [
    {
     "name": "stdout",
     "output_type": "stream",
     "text": [
      "4.5\n",
      "4.5\n",
      "5.074074074074074\n",
      "2.753785273643051 2.753785273643051\n",
      "7.583333333333333 7.583333333333333\n"
     ]
    }
   ],
   "source": [
    "arr8=np.array([1,2,6,9,3,6])\n",
    "wt=np.array([10,15,20,25,30,35])\n",
    "np.min(arr8)\n",
    "np.max(arr8)\n",
    "print(np.mean(arr8))   #mean\n",
    "print(np.median(arr8)) #median\n",
    "print(np.average(arr8,weights=wt)) #weighted average\n",
    "#standard deviation\n",
    "u=np.mean(arr8)\n",
    "mystd=np.sqrt(np.mean(abs(arr8-u)**2))\n",
    "dev=np.std(arr8)\n",
    "print(mystd,dev)\n",
    "#variance\n",
    "print(mystd**2,np.var(arr8))"
   ]
  },
  {
   "cell_type": "markdown",
   "id": "9860c3d0-e3db-46a1-a1a0-4ce794ce89bc",
   "metadata": {},
   "source": [
    "RANDOM FUNCTIONS!!!!"
   ]
  },
  {
   "cell_type": "code",
   "execution_count": 26,
   "id": "db6921a5-8d03-43e7-bb68-9e8768f81b37",
   "metadata": {},
   "outputs": [
    {
     "name": "stdout",
     "output_type": "stream",
     "text": [
      "None\n",
      "None\n"
     ]
    }
   ],
   "source": [
    "arr9=np.array([1,2,3,4,5,6,7,8,9])\n",
    "#x=np.arrange(10)+5\n",
    "x=np.random.seed(1)\n",
    "print(x)\n",
    "print(np.random.shuffle(arr9))"
   ]
  },
  {
   "cell_type": "code",
   "execution_count": 27,
   "id": "c576521f-6799-4873-81e9-8991250f30c0",
   "metadata": {},
   "outputs": [
    {
     "name": "stdout",
     "output_type": "stream",
     "text": [
      "[[-0.54974618 -1.40287272  1.5827523 ]\n",
      " [-1.04514683  0.25759352 -1.9593946 ]]\n",
      "[9 7 9]\n",
      "45\n"
     ]
    }
   ],
   "source": [
    "a=np.random.randn(2,3)\n",
    "print(a)\n",
    "a=np.random.randint(5,10,3)\n",
    "print(a)\n",
    "a=np.random.choice([2,4,6,8,98,45])\n",
    "print(a)"
   ]
  },
  {
   "cell_type": "code",
   "execution_count": null,
   "id": "fea30dc7-971d-409f-9e2c-15e222211fbc",
   "metadata": {},
   "outputs": [],
   "source": []
  }
 ],
 "metadata": {
  "kernelspec": {
   "display_name": "Python 3 (ipykernel)",
   "language": "python",
   "name": "python3"
  },
  "language_info": {
   "codemirror_mode": {
    "name": "ipython",
    "version": 3
   },
   "file_extension": ".py",
   "mimetype": "text/x-python",
   "name": "python",
   "nbconvert_exporter": "python",
   "pygments_lexer": "ipython3",
   "version": "3.12.2"
  }
 },
 "nbformat": 4,
 "nbformat_minor": 5
}
